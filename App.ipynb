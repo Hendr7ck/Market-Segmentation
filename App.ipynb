{
 "cells": [
  {
   "cell_type": "code",
   "execution_count": null,
   "id": "ccd55e33",
   "metadata": {},
   "outputs": [],
   "source": [
    "!pip install streamlit"
   ]
  },
  {
   "cell_type": "code",
   "execution_count": null,
   "id": "f1f2810e",
   "metadata": {
    "scrolled": true
   },
   "outputs": [],
   "source": [
    "pip install typing-extensions --upgrade"
   ]
  },
  {
   "cell_type": "code",
   "execution_count": 3,
   "id": "1e8241ce",
   "metadata": {
    "scrolled": true
   },
   "outputs": [
    {
     "name": "stdout",
     "output_type": "stream",
     "text": [
      "Collecting plotly\n",
      "  Downloading plotly-5.10.0-py2.py3-none-any.whl (15.2 MB)\n",
      "     ---------------------------------------- 15.2/15.2 MB 4.0 MB/s eta 0:00:00\n",
      "Collecting tenacity>=6.2.0\n",
      "  Downloading tenacity-8.1.0-py3-none-any.whl (23 kB)\n",
      "Installing collected packages: tenacity, plotly\n",
      "Successfully installed plotly-5.10.0 tenacity-8.1.0\n",
      "\n",
      "[notice] A new release of pip available: 22.1.2 -> 22.3\n",
      "[notice] To update, run: python.exe -m pip install --upgrade pip\n"
     ]
    }
   ],
   "source": [
    "!pip install plotly"
   ]
  },
  {
   "cell_type": "code",
   "execution_count": 4,
   "id": "cd769655",
   "metadata": {
    "scrolled": true
   },
   "outputs": [],
   "source": [
    "from sklearn import preprocessing \n",
    "import streamlit as st\n",
    "import pandas as pd\n",
    "import plotly.figure_factory as ff\n",
    "import matplotlib.pyplot as plt\n",
    "import seaborn as sns\n",
    "import pickle"
   ]
  },
  {
   "cell_type": "code",
   "execution_count": 5,
   "id": "e05ea960",
   "metadata": {},
   "outputs": [],
   "source": [
    "filename = 'final_model.sav'\n",
    "loaded_model = pickle.load(open(filename, 'rb'))\n",
    "df = pd.read_csv(\"Clustered_Customer_Data.csv\")\n",
    "st.set_option('deprecation.showPyplotGlobalUse', False)"
   ]
  },
  {
   "cell_type": "code",
   "execution_count": 6,
   "id": "00a8be56",
   "metadata": {},
   "outputs": [
    {
     "name": "stderr",
     "output_type": "stream",
     "text": [
      "2022-10-18 00:48:03.307 \n",
      "  \u001b[33m\u001b[1mWarning:\u001b[0m to view this Streamlit app on a browser, run it with the following\n",
      "  command:\n",
      "\n",
      "    streamlit run C:\\Users\\Dell\\anaconda3\\New folder\\lib\\site-packages\\ipykernel_launcher.py [ARGUMENTS]\n"
     ]
    },
    {
     "data": {
      "text/plain": [
       "DeltaGenerator(_root_container=0, _provided_cursor=None, _parent=None, _block_type=None, _form_data=None)"
      ]
     },
     "execution_count": 6,
     "metadata": {},
     "output_type": "execute_result"
    }
   ],
   "source": [
    "st.markdown('<style>body{background-color: Blue;}</style>',unsafe_allow_html=True)\n",
    "st.title(\"Customer Cluster Prediction\")"
   ]
  },
  {
   "cell_type": "code",
   "execution_count": 9,
   "id": "b27b4d6b",
   "metadata": {},
   "outputs": [],
   "source": [
    "with st.form(\"my_form\"):\n",
    "    balance=st.number_input(label='Balance',step=0.001,format=\"%.6f\")\n",
    "    balance_frequency=st.number_input(label='Balance Frequency',step=0.001,format=\"%.6f\")\n",
    "    purchases=st.number_input(label='Purchases',step=0.01,format=\"%.2f\")\n",
    "    oneoff_purchases=st.number_input(label='OneOff_Purchases',step=0.01,format=\"%.2f\")\n",
    "    installments_purchases=st.number_input(label='Installments Purchases',step=0.01,format=\"%.2f\")\n",
    "    cash_advance=st.number_input(label='Cash Advance',step=0.01,format=\"%.6f\")\n",
    "    purchases_frequency=st.number_input(label='Purchases Frequency',step=0.01,format=\"%.6f\")\n",
    "    oneoff_purchases_frequency=st.number_input(label='OneOff Purchases Frequency',step=0.1,format=\"%.6f\")\n",
    "    purchases_installment_frequency=st.number_input(label='Purchases Installments Freqency',step=0.1,format=\"%.6f\")\n",
    "    cash_advance_frequency=st.number_input(label='Cash Advance Frequency',step=0.1,format=\"%.6f\")\n",
    "    cash_advance_trx=st.number_input(label='Cash Advance Trx',step=1)\n",
    "    purchases_trx=st.number_input(label='Purchases TRX',step=1)\n",
    "    credit_limit=st.number_input(label='Credit Limit',step=0.1,format=\"%.1f\")\n",
    "    payments=st.number_input(label='Payments',step=0.01,format=\"%.6f\")\n",
    "    minimum_payments=st.number_input(label='Minimum Payments',step=0.01,format=\"%.6f\")\n",
    "    prc_full_payment=st.number_input(label='PRC Full Payment',step=0.01,format=\"%.6f\")\n",
    "    tenure=st.number_input(label='Tenure',step=1)\n",
    "    \n",
    "    data=[[balance,balance_frequency,purchases,oneoff_purchases,installments_purchases,cash_advance,purchases_frequency,oneoff_purchases_frequency,purchases_installment_frequency,cash_advance_frequency,cash_advance_trx,purchases_trx,credit_limit,payments,minimum_payments,prc_full_payment,tenure]]\n",
    "    \n",
    "    submitted = st.form_submit_button(\"Submit\")"
   ]
  },
  {
   "cell_type": "code",
   "execution_count": 13,
   "id": "5d330afd",
   "metadata": {},
   "outputs": [],
   "source": [
    "if submitted:\n",
    "    clust=loaded_model.predict(data)[0]\n",
    "    print('Data Belongs to Cluster',clust)\n",
    "    \n",
    "    cluster_df1=df[df['Cluster']==clust]\n",
    "    plt.rcParams[\"figure.figsize\"] = (20,3)\n",
    "    for c in cluster_df1.drop(['Cluster'],axis=1):\n",
    "        fig, ax = plt.subplots()\n",
    "        grid= sns.FacetGrid(cluster_df1, col='Cluster')\n",
    "        grid= grid.map(plt.hist, c)\n",
    "        plt.show()\n",
    "        st.pyplot(figsize=(5, 5))"
   ]
  }
 ],
 "metadata": {
  "kernelspec": {
   "display_name": "Python 3",
   "language": "python",
   "name": "python3"
  },
  "language_info": {
   "codemirror_mode": {
    "name": "ipython",
    "version": 3
   },
   "file_extension": ".py",
   "mimetype": "text/x-python",
   "name": "python",
   "nbconvert_exporter": "python",
   "pygments_lexer": "ipython3",
   "version": "3.8.8"
  }
 },
 "nbformat": 4,
 "nbformat_minor": 5
}
